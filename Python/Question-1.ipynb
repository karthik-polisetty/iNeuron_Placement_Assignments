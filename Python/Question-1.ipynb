{
 "cells": [
  {
   "cell_type": "markdown",
   "id": "820a5fe5",
   "metadata": {},
   "source": [
    "Q1. Write a program that takes a string as input, and counts the frequency of each word in the string, there might\n",
    "    be repeated characters in the string. Your task is to find the highest frequency and returns the length of the\n",
    "    highest-frequency word.\n",
    "\n",
    "    Note - You have to write at least 2 additional test cases in which your program will run successfully and provide\n",
    "    an explanation for the same.\n",
    "    Example input - string = “write write write all the number from from from 1 to 100”\n",
    "    Example output - 5\n",
    "    Explanation - From the given string we can note that the most frequent words are “write” and “from” and\n",
    "    the maximum value of both the values is “write” and its corresponding length is 5"
   ]
  },
  {
   "cell_type": "code",
   "execution_count": 43,
   "id": "294ade18",
   "metadata": {},
   "outputs": [],
   "source": [
    "from collections import Counter\n",
    "\n",
    "def string_freq(text:str):\n",
    "    chars = text.split(\" \")\n",
    "    freq_dict = dict(Counter(chars))\n",
    "    \n",
    "    final = dict(sorted(freq_dict.items(),key = lambda i:i[1],reverse=True))\n",
    "    ls = [var for var in final.keys() if final[var]==max(final.values())]\n",
    "    max_word= sorted(ls,key = lambda i : len(i),reverse = True)[0]\n",
    "    max_len = len(max_word)\n",
    "    \n",
    "    \n",
    "    print(max_len)\n",
    "    print(f'From the given string we can note that the most frequent words are {\" and \".join(ls)} and the maximum length one among them is {max_word} and its corresponding length is {max_len}')\n",
    "    "
   ]
  },
  {
   "cell_type": "code",
   "execution_count": 44,
   "id": "1427701b",
   "metadata": {},
   "outputs": [
    {
     "name": "stdout",
     "output_type": "stream",
     "text": [
      "5\n",
      "From the given string we can note that the most frequent words are write and from and the maximum length one among them is write and its corresponding length is 5\n"
     ]
    }
   ],
   "source": [
    "string_freq('write write write all the number from from from 1 to 100')"
   ]
  },
  {
   "cell_type": "code",
   "execution_count": 45,
   "id": "8fb6deb3",
   "metadata": {},
   "outputs": [
    {
     "name": "stdout",
     "output_type": "stream",
     "text": [
      "7\n",
      "From the given string we can note that the most frequent words are program and the maximum length one among them is program and its corresponding length is 7\n"
     ]
    }
   ],
   "source": [
    "string_freq('you should write write a program where the program would let you gain a job in the internship program')"
   ]
  }
 ],
 "metadata": {
  "kernelspec": {
   "display_name": "Python 3 (ipykernel)",
   "language": "python",
   "name": "python3"
  },
  "language_info": {
   "codemirror_mode": {
    "name": "ipython",
    "version": 3
   },
   "file_extension": ".py",
   "mimetype": "text/x-python",
   "name": "python",
   "nbconvert_exporter": "python",
   "pygments_lexer": "ipython3",
   "version": "3.9.13"
  }
 },
 "nbformat": 4,
 "nbformat_minor": 5
}
