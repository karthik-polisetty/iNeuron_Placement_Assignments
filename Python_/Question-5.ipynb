{
 "cells": [
  {
   "cell_type": "markdown",
   "id": "78ca1557",
   "metadata": {},
   "source": [
    "Q5. Write a program to download the data from the given API link and then extract the following data with\n",
    "proper formatting\n",
    "\n",
    "Link - http://api.tvmaze.com/singlesearch/shows?q=westworld&embed=episodes\n",
    "\n",
    "Note - Write proper code comments wherever needed for the code understanding\n",
    "\n",
    "Excepted Output Data Attributes -\n",
    "- id - int \n",
    "- url - string\n",
    "- name - string \n",
    "- season int\n",
    "- number - int\n",
    "- type - string \n",
    "- airdate - date format \n",
    "- airtime - 12-hour time format\n",
    "- runtime - float\n",
    "- average rating - float\n",
    "- summary - string without html tags\n",
    "- medium image link - string\n",
    "- Original image link - string"
   ]
  },
  {
   "cell_type": "code",
   "execution_count": 1,
   "id": "b98f63a4",
   "metadata": {},
   "outputs": [],
   "source": [
    "import pandas as pd\n",
    "import requests\n",
    "import json"
   ]
  },
  {
   "cell_type": "code",
   "execution_count": 2,
   "id": "cf1351d2",
   "metadata": {},
   "outputs": [],
   "source": [
    "response = requests.get('http://api.tvmaze.com/singlesearch/shows?q=westworld&embed=episodes')\n",
    "data = json.loads(response.text)"
   ]
  },
  {
   "cell_type": "code",
   "execution_count": 3,
   "id": "c62c1afa",
   "metadata": {},
   "outputs": [
    {
     "data": {
      "text/plain": [
       "dict"
      ]
     },
     "execution_count": 3,
     "metadata": {},
     "output_type": "execute_result"
    }
   ],
   "source": [
    "type(data)"
   ]
  },
  {
   "cell_type": "code",
   "execution_count": 4,
   "id": "2876e90a",
   "metadata": {},
   "outputs": [
    {
     "data": {
      "text/plain": [
       "dict_keys(['id', 'url', 'name', 'type', 'language', 'genres', 'status', 'runtime', 'averageRuntime', 'premiered', 'ended', 'officialSite', 'schedule', 'rating', 'weight', 'network', 'webChannel', 'dvdCountry', 'externals', 'image', 'summary', 'updated', '_links', '_embedded'])"
      ]
     },
     "execution_count": 4,
     "metadata": {},
     "output_type": "execute_result"
    }
   ],
   "source": [
    "data.keys()"
   ]
  },
  {
   "cell_type": "code",
   "execution_count": 5,
   "id": "704c8d39",
   "metadata": {},
   "outputs": [],
   "source": [
    "main_data = data['_embedded']['episodes']"
   ]
  },
  {
   "cell_type": "code",
   "execution_count": 6,
   "id": "b39f69f2",
   "metadata": {},
   "outputs": [],
   "source": [
    "df = pd.DataFrame(main_data)"
   ]
  },
  {
   "cell_type": "code",
   "execution_count": 7,
   "id": "82300b2b",
   "metadata": {},
   "outputs": [],
   "source": [
    "# extracted the value from the rating dicts and replaced them\n",
    "df['rating'] = df['rating'].apply(lambda i : i['average'])"
   ]
  },
  {
   "cell_type": "code",
   "execution_count": 8,
   "id": "b2b265a2",
   "metadata": {},
   "outputs": [],
   "source": [
    "# extracted the medium image link form image column and created a seperate column\n",
    "df['medium_image_link'] = df['image'].apply(lambda i: i['medium'])"
   ]
  },
  {
   "cell_type": "code",
   "execution_count": 9,
   "id": "2338129f",
   "metadata": {},
   "outputs": [],
   "source": [
    "# # extracted the original image link form image column and created a seperate column\n",
    "df['original_image_link'] = df['image'].apply(lambda i: i['original'])"
   ]
  },
  {
   "cell_type": "code",
   "execution_count": 10,
   "id": "ee2286e8",
   "metadata": {},
   "outputs": [],
   "source": [
    "# removed the html tags from the summary column records\n",
    "df['summary'] = df['summary'].astype('str').apply(lambda i : i[3:-4])"
   ]
  },
  {
   "cell_type": "code",
   "execution_count": 11,
   "id": "a0dd25c5",
   "metadata": {},
   "outputs": [],
   "source": [
    "# dropped all the unnecessary columns as per the requirements\n",
    "df.drop(labels = [\"airstamp\",'_links','image'],axis=1,inplace=True)"
   ]
  },
  {
   "cell_type": "code",
   "execution_count": 12,
   "id": "258f2aae",
   "metadata": {},
   "outputs": [],
   "source": [
    "# renamed the rating column to average rating\n",
    "df = df.rename(columns={'rating': 'average_rating'})"
   ]
  },
  {
   "cell_type": "code",
   "execution_count": 13,
   "id": "4c15c975",
   "metadata": {},
   "outputs": [],
   "source": [
    "# Convert the 'Time' column to datetime format\n",
    "df['airtime'] = pd.to_datetime(df['airtime'], format='%H:%M')\n",
    "\n",
    "# Convert the 'Time' column to 12-hour format\n",
    "df['airtime'] = df['airtime'].dt.strftime('%I:%M %p')"
   ]
  },
  {
   "cell_type": "code",
   "execution_count": 14,
   "id": "59fe2ae9",
   "metadata": {},
   "outputs": [],
   "source": [
    "# coverted the runtime column datatype from int to float\n",
    "df['runtime']=df['runtime'].astype('float')"
   ]
  },
  {
   "cell_type": "code",
   "execution_count": 15,
   "id": "c8548c3f",
   "metadata": {},
   "outputs": [
    {
     "name": "stdout",
     "output_type": "stream",
     "text": [
      "<class 'pandas.core.frame.DataFrame'>\n",
      "RangeIndex: 36 entries, 0 to 35\n",
      "Data columns (total 13 columns):\n",
      " #   Column               Non-Null Count  Dtype  \n",
      "---  ------               --------------  -----  \n",
      " 0   id                   36 non-null     int64  \n",
      " 1   url                  36 non-null     object \n",
      " 2   name                 36 non-null     object \n",
      " 3   season               36 non-null     int64  \n",
      " 4   number               36 non-null     int64  \n",
      " 5   type                 36 non-null     object \n",
      " 6   airdate              36 non-null     object \n",
      " 7   airtime              36 non-null     object \n",
      " 8   runtime              36 non-null     float64\n",
      " 9   average_rating       36 non-null     float64\n",
      " 10  summary              36 non-null     object \n",
      " 11  medium_image_link    36 non-null     object \n",
      " 12  original_image_link  36 non-null     object \n",
      "dtypes: float64(2), int64(3), object(8)\n",
      "memory usage: 3.8+ KB\n"
     ]
    }
   ],
   "source": [
    "df.info()"
   ]
  },
  {
   "cell_type": "code",
   "execution_count": 16,
   "id": "e2162305",
   "metadata": {},
   "outputs": [
    {
     "data": {
      "text/html": [
       "<div>\n",
       "<style scoped>\n",
       "    .dataframe tbody tr th:only-of-type {\n",
       "        vertical-align: middle;\n",
       "    }\n",
       "\n",
       "    .dataframe tbody tr th {\n",
       "        vertical-align: top;\n",
       "    }\n",
       "\n",
       "    .dataframe thead th {\n",
       "        text-align: right;\n",
       "    }\n",
       "</style>\n",
       "<table border=\"1\" class=\"dataframe\">\n",
       "  <thead>\n",
       "    <tr style=\"text-align: right;\">\n",
       "      <th></th>\n",
       "      <th>id</th>\n",
       "      <th>url</th>\n",
       "      <th>name</th>\n",
       "      <th>season</th>\n",
       "      <th>number</th>\n",
       "      <th>type</th>\n",
       "      <th>airdate</th>\n",
       "      <th>airtime</th>\n",
       "      <th>runtime</th>\n",
       "      <th>average_rating</th>\n",
       "      <th>summary</th>\n",
       "      <th>medium_image_link</th>\n",
       "      <th>original_image_link</th>\n",
       "    </tr>\n",
       "  </thead>\n",
       "  <tbody>\n",
       "    <tr>\n",
       "      <th>0</th>\n",
       "      <td>869671</td>\n",
       "      <td>https://www.tvmaze.com/episodes/869671/westwor...</td>\n",
       "      <td>The Original</td>\n",
       "      <td>1</td>\n",
       "      <td>1</td>\n",
       "      <td>regular</td>\n",
       "      <td>2016-10-02</td>\n",
       "      <td>09:00 PM</td>\n",
       "      <td>68.0</td>\n",
       "      <td>8.0</td>\n",
       "      <td>A woman named Dolores is a free spirit in the ...</td>\n",
       "      <td>https://static.tvmaze.com/uploads/images/mediu...</td>\n",
       "      <td>https://static.tvmaze.com/uploads/images/origi...</td>\n",
       "    </tr>\n",
       "    <tr>\n",
       "      <th>1</th>\n",
       "      <td>911201</td>\n",
       "      <td>https://www.tvmaze.com/episodes/911201/westwor...</td>\n",
       "      <td>Chestnut</td>\n",
       "      <td>1</td>\n",
       "      <td>2</td>\n",
       "      <td>regular</td>\n",
       "      <td>2016-10-09</td>\n",
       "      <td>09:00 PM</td>\n",
       "      <td>60.0</td>\n",
       "      <td>7.7</td>\n",
       "      <td>Bernard suspects that someone is sabotaging th...</td>\n",
       "      <td>https://static.tvmaze.com/uploads/images/mediu...</td>\n",
       "      <td>https://static.tvmaze.com/uploads/images/origi...</td>\n",
       "    </tr>\n",
       "    <tr>\n",
       "      <th>2</th>\n",
       "      <td>911204</td>\n",
       "      <td>https://www.tvmaze.com/episodes/911204/westwor...</td>\n",
       "      <td>The Stray</td>\n",
       "      <td>1</td>\n",
       "      <td>3</td>\n",
       "      <td>regular</td>\n",
       "      <td>2016-10-16</td>\n",
       "      <td>09:00 PM</td>\n",
       "      <td>60.0</td>\n",
       "      <td>7.6</td>\n",
       "      <td>Bernard continues to investigate Dolores' supp...</td>\n",
       "      <td>https://static.tvmaze.com/uploads/images/mediu...</td>\n",
       "      <td>https://static.tvmaze.com/uploads/images/origi...</td>\n",
       "    </tr>\n",
       "    <tr>\n",
       "      <th>3</th>\n",
       "      <td>911205</td>\n",
       "      <td>https://www.tvmaze.com/episodes/911205/westwor...</td>\n",
       "      <td>Dissonance Theory</td>\n",
       "      <td>1</td>\n",
       "      <td>4</td>\n",
       "      <td>regular</td>\n",
       "      <td>2016-10-23</td>\n",
       "      <td>09:00 PM</td>\n",
       "      <td>60.0</td>\n",
       "      <td>7.9</td>\n",
       "      <td>While Dolores joins William and Logan on their...</td>\n",
       "      <td>https://static.tvmaze.com/uploads/images/mediu...</td>\n",
       "      <td>https://static.tvmaze.com/uploads/images/origi...</td>\n",
       "    </tr>\n",
       "    <tr>\n",
       "      <th>4</th>\n",
       "      <td>927174</td>\n",
       "      <td>https://www.tvmaze.com/episodes/927174/westwor...</td>\n",
       "      <td>Contrapasso</td>\n",
       "      <td>1</td>\n",
       "      <td>5</td>\n",
       "      <td>regular</td>\n",
       "      <td>2016-10-30</td>\n",
       "      <td>09:00 PM</td>\n",
       "      <td>60.0</td>\n",
       "      <td>8.0</td>\n",
       "      <td>Dolores takes the first step on her path of di...</td>\n",
       "      <td>https://static.tvmaze.com/uploads/images/mediu...</td>\n",
       "      <td>https://static.tvmaze.com/uploads/images/origi...</td>\n",
       "    </tr>\n",
       "  </tbody>\n",
       "</table>\n",
       "</div>"
      ],
      "text/plain": [
       "       id                                                url  \\\n",
       "0  869671  https://www.tvmaze.com/episodes/869671/westwor...   \n",
       "1  911201  https://www.tvmaze.com/episodes/911201/westwor...   \n",
       "2  911204  https://www.tvmaze.com/episodes/911204/westwor...   \n",
       "3  911205  https://www.tvmaze.com/episodes/911205/westwor...   \n",
       "4  927174  https://www.tvmaze.com/episodes/927174/westwor...   \n",
       "\n",
       "                name  season  number     type     airdate   airtime  runtime  \\\n",
       "0       The Original       1       1  regular  2016-10-02  09:00 PM     68.0   \n",
       "1           Chestnut       1       2  regular  2016-10-09  09:00 PM     60.0   \n",
       "2          The Stray       1       3  regular  2016-10-16  09:00 PM     60.0   \n",
       "3  Dissonance Theory       1       4  regular  2016-10-23  09:00 PM     60.0   \n",
       "4        Contrapasso       1       5  regular  2016-10-30  09:00 PM     60.0   \n",
       "\n",
       "   average_rating                                            summary  \\\n",
       "0             8.0  A woman named Dolores is a free spirit in the ...   \n",
       "1             7.7  Bernard suspects that someone is sabotaging th...   \n",
       "2             7.6  Bernard continues to investigate Dolores' supp...   \n",
       "3             7.9  While Dolores joins William and Logan on their...   \n",
       "4             8.0  Dolores takes the first step on her path of di...   \n",
       "\n",
       "                                   medium_image_link  \\\n",
       "0  https://static.tvmaze.com/uploads/images/mediu...   \n",
       "1  https://static.tvmaze.com/uploads/images/mediu...   \n",
       "2  https://static.tvmaze.com/uploads/images/mediu...   \n",
       "3  https://static.tvmaze.com/uploads/images/mediu...   \n",
       "4  https://static.tvmaze.com/uploads/images/mediu...   \n",
       "\n",
       "                                 original_image_link  \n",
       "0  https://static.tvmaze.com/uploads/images/origi...  \n",
       "1  https://static.tvmaze.com/uploads/images/origi...  \n",
       "2  https://static.tvmaze.com/uploads/images/origi...  \n",
       "3  https://static.tvmaze.com/uploads/images/origi...  \n",
       "4  https://static.tvmaze.com/uploads/images/origi...  "
      ]
     },
     "execution_count": 16,
     "metadata": {},
     "output_type": "execute_result"
    }
   ],
   "source": [
    "df.head()"
   ]
  },
  {
   "cell_type": "code",
   "execution_count": 17,
   "id": "529b905a",
   "metadata": {},
   "outputs": [],
   "source": [
    "df.to_csv('ques-5.csv',index=False)"
   ]
  }
 ],
 "metadata": {
  "kernelspec": {
   "display_name": "Python 3 (ipykernel)",
   "language": "python",
   "name": "python3"
  },
  "language_info": {
   "codemirror_mode": {
    "name": "ipython",
    "version": 3
   },
   "file_extension": ".py",
   "mimetype": "text/x-python",
   "name": "python",
   "nbconvert_exporter": "python",
   "pygments_lexer": "ipython3",
   "version": "3.9.13"
  }
 },
 "nbformat": 4,
 "nbformat_minor": 5
}
