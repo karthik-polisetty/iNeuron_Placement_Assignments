{
 "cells": [
  {
   "cell_type": "markdown",
   "id": "e285abb7",
   "metadata": {},
   "source": [
    "Q10.Write a program to count the number of verbs, nouns, pronouns, and adjectives in a given particular phrase or\n",
    "paragraph, and return their respective count as a dictionary.\n",
    "Note -\n",
    "1. Write code comments wherever required for code\n",
    "2. You have to write at least 2 additional test cases in which your program will run successfully and provide\n",
    "an explanation for the same."
   ]
  },
  {
   "cell_type": "code",
   "execution_count": 5,
   "id": "3daa153f",
   "metadata": {},
   "outputs": [
    {
     "name": "stderr",
     "output_type": "stream",
     "text": [
      "[nltk_data] Downloading package punkt to\n",
      "[nltk_data]     C:\\Users\\hp\\AppData\\Roaming\\nltk_data...\n",
      "[nltk_data]   Package punkt is already up-to-date!\n",
      "[nltk_data] Downloading package averaged_perceptron_tagger to\n",
      "[nltk_data]     C:\\Users\\hp\\AppData\\Roaming\\nltk_data...\n",
      "[nltk_data]   Unzipping taggers\\averaged_perceptron_tagger.zip.\n"
     ]
    },
    {
     "data": {
      "text/plain": [
       "True"
      ]
     },
     "execution_count": 5,
     "metadata": {},
     "output_type": "execute_result"
    }
   ],
   "source": [
    "import nltk\n",
    "from nltk import pos_tag\n",
    "from nltk.tokenize import word_tokenize\n",
    "nltk.download('punkt')\n",
    "nltk.download('averaged_perceptron_tagger')"
   ]
  },
  {
   "cell_type": "code",
   "execution_count": 25,
   "id": "212ec979",
   "metadata": {},
   "outputs": [],
   "source": [
    "def pos_identify(text):\n",
    "    words = text.split()\n",
    "    # Perform part-of-speech tagging\n",
    "    mapped_words = pos_tag(words)\n",
    "    \n",
    "    # Initialized a dictionary with 0 count for all\n",
    "    counts = {'Noun': 0, 'Verb': 0, 'Adjective': 0, 'Pronoun': 0}\n",
    "    \n",
    "    for word,tag in mapped_words:\n",
    "        if tag.startswith('NN'):  # Noun\n",
    "            counts['Noun'] += 1\n",
    "        elif tag.startswith('VB'):  # Verb\n",
    "            counts['Verb'] += 1\n",
    "        elif tag.startswith('JJ'):  # Adjective\n",
    "            counts['Adjective'] += 1\n",
    "        elif tag.startswith('PR'):  # Pronoun\n",
    "            counts['Pronoun'] += 1\n",
    "            \n",
    "    #print(mapped_words)\n",
    "    \n",
    "           \n",
    "    return counts"
   ]
  },
  {
   "cell_type": "markdown",
   "id": "ec861b4d",
   "metadata": {},
   "source": [
    "#### Test_Case_1"
   ]
  },
  {
   "cell_type": "code",
   "execution_count": 26,
   "id": "6a36782e",
   "metadata": {},
   "outputs": [
    {
     "name": "stdout",
     "output_type": "stream",
     "text": [
      "{'Noun': 4, 'Verb': 1, 'Adjective': 1, 'Pronoun': 0}\n"
     ]
    }
   ],
   "source": [
    "print(pos_identify('This is an awesome assignment by the iNeuron for placement shortlisting'))"
   ]
  },
  {
   "cell_type": "markdown",
   "id": "58d3b254",
   "metadata": {},
   "source": [
    "#### Test_Case_2"
   ]
  },
  {
   "cell_type": "code",
   "execution_count": 27,
   "id": "62935c75",
   "metadata": {},
   "outputs": [
    {
     "name": "stdout",
     "output_type": "stream",
     "text": [
      "{'Noun': 1, 'Verb': 3, 'Adjective': 1, 'Pronoun': 1}\n"
     ]
    }
   ],
   "source": [
    "print(pos_identify('I have to qualify this to get a good oppurtunity'))"
   ]
  }
 ],
 "metadata": {
  "kernelspec": {
   "display_name": "Python 3 (ipykernel)",
   "language": "python",
   "name": "python3"
  },
  "language_info": {
   "codemirror_mode": {
    "name": "ipython",
    "version": 3
   },
   "file_extension": ".py",
   "mimetype": "text/x-python",
   "name": "python",
   "nbconvert_exporter": "python",
   "pygments_lexer": "ipython3",
   "version": "3.9.13"
  }
 },
 "nbformat": 4,
 "nbformat_minor": 5
}
