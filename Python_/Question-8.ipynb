{
 "cells": [
  {
   "cell_type": "markdown",
   "id": "dc35263e",
   "metadata": {},
   "source": [
    "Q8.Using the data from Question 5, write code the analyze the data and answer the following questions Note -\n",
    "1. Draw plots to demonstrate the analysis for the following questions and better visualizations\n",
    "2. Write code comments wherever required for code understanding\n",
    "\n",
    "Insights to be drawn -\n",
    "- Get all the overall ratings for each season and using plots compare the ratings for all the\n",
    "    seasons, like season 1 ratings, season 2, and so on.\n",
    "- Get all the episode names, whose average rating is more than 8 for every season\n",
    "- Get all the episode names that aired before May 2019\n",
    "- Get the episode name from each season with the highest and lowest rating\n",
    "- Get the summary for the most popular ( ratings ) episode in every season"
   ]
  },
  {
   "cell_type": "code",
   "execution_count": 2,
   "id": "36a7bfb9",
   "metadata": {},
   "outputs": [],
   "source": [
    "import pandas as pd"
   ]
  },
  {
   "cell_type": "code",
   "execution_count": 4,
   "id": "dce7a70b",
   "metadata": {},
   "outputs": [],
   "source": [
    "df=pd.read_csv('ques-5.csv')"
   ]
  },
  {
   "cell_type": "code",
   "execution_count": 24,
   "id": "44935721",
   "metadata": {},
   "outputs": [
    {
     "data": {
      "text/html": [
       "<div>\n",
       "<style scoped>\n",
       "    .dataframe tbody tr th:only-of-type {\n",
       "        vertical-align: middle;\n",
       "    }\n",
       "\n",
       "    .dataframe tbody tr th {\n",
       "        vertical-align: top;\n",
       "    }\n",
       "\n",
       "    .dataframe thead th {\n",
       "        text-align: right;\n",
       "    }\n",
       "</style>\n",
       "<table border=\"1\" class=\"dataframe\">\n",
       "  <thead>\n",
       "    <tr style=\"text-align: right;\">\n",
       "      <th></th>\n",
       "      <th>id</th>\n",
       "      <th>url</th>\n",
       "      <th>name</th>\n",
       "      <th>season</th>\n",
       "      <th>number</th>\n",
       "      <th>type</th>\n",
       "      <th>airdate</th>\n",
       "      <th>airtime</th>\n",
       "      <th>runtime</th>\n",
       "      <th>average_rating</th>\n",
       "      <th>summary</th>\n",
       "      <th>medium_image_link</th>\n",
       "      <th>original_image_link</th>\n",
       "    </tr>\n",
       "  </thead>\n",
       "  <tbody>\n",
       "    <tr>\n",
       "      <th>0</th>\n",
       "      <td>869671</td>\n",
       "      <td>https://www.tvmaze.com/episodes/869671/westwor...</td>\n",
       "      <td>The Original</td>\n",
       "      <td>1</td>\n",
       "      <td>1</td>\n",
       "      <td>regular</td>\n",
       "      <td>2016-10-02</td>\n",
       "      <td>09:00 PM</td>\n",
       "      <td>68.0</td>\n",
       "      <td>8.0</td>\n",
       "      <td>A woman named Dolores is a free spirit in the ...</td>\n",
       "      <td>https://static.tvmaze.com/uploads/images/mediu...</td>\n",
       "      <td>https://static.tvmaze.com/uploads/images/origi...</td>\n",
       "    </tr>\n",
       "  </tbody>\n",
       "</table>\n",
       "</div>"
      ],
      "text/plain": [
       "       id                                                url          name  \\\n",
       "0  869671  https://www.tvmaze.com/episodes/869671/westwor...  The Original   \n",
       "\n",
       "   season  number     type     airdate   airtime  runtime  average_rating  \\\n",
       "0       1       1  regular  2016-10-02  09:00 PM     68.0             8.0   \n",
       "\n",
       "                                             summary  \\\n",
       "0  A woman named Dolores is a free spirit in the ...   \n",
       "\n",
       "                                   medium_image_link  \\\n",
       "0  https://static.tvmaze.com/uploads/images/mediu...   \n",
       "\n",
       "                                 original_image_link  \n",
       "0  https://static.tvmaze.com/uploads/images/origi...  "
      ]
     },
     "execution_count": 24,
     "metadata": {},
     "output_type": "execute_result"
    }
   ],
   "source": [
    "df.head(1)"
   ]
  },
  {
   "cell_type": "markdown",
   "id": "621bf786",
   "metadata": {},
   "source": [
    "#### Get all the overall ratings for each season and using plots compare the ratings for all the seasons, like season 1 ratings, season 2, and so on."
   ]
  },
  {
   "cell_type": "code",
   "execution_count": 20,
   "id": "0f36b29b",
   "metadata": {},
   "outputs": [],
   "source": [
    "q1 = df.groupby(['season'])['average_rating'].sum().to_frame().reset_index()"
   ]
  },
  {
   "cell_type": "code",
   "execution_count": 21,
   "id": "7683ee1e",
   "metadata": {},
   "outputs": [
    {
     "data": {
      "text/html": [
       "<div>\n",
       "<style scoped>\n",
       "    .dataframe tbody tr th:only-of-type {\n",
       "        vertical-align: middle;\n",
       "    }\n",
       "\n",
       "    .dataframe tbody tr th {\n",
       "        vertical-align: top;\n",
       "    }\n",
       "\n",
       "    .dataframe thead th {\n",
       "        text-align: right;\n",
       "    }\n",
       "</style>\n",
       "<table border=\"1\" class=\"dataframe\">\n",
       "  <thead>\n",
       "    <tr style=\"text-align: right;\">\n",
       "      <th></th>\n",
       "      <th>season</th>\n",
       "      <th>average_rating</th>\n",
       "    </tr>\n",
       "  </thead>\n",
       "  <tbody>\n",
       "    <tr>\n",
       "      <th>0</th>\n",
       "      <td>1</td>\n",
       "      <td>80.9</td>\n",
       "    </tr>\n",
       "    <tr>\n",
       "      <th>1</th>\n",
       "      <td>2</td>\n",
       "      <td>80.0</td>\n",
       "    </tr>\n",
       "    <tr>\n",
       "      <th>2</th>\n",
       "      <td>3</td>\n",
       "      <td>62.2</td>\n",
       "    </tr>\n",
       "    <tr>\n",
       "      <th>3</th>\n",
       "      <td>4</td>\n",
       "      <td>60.3</td>\n",
       "    </tr>\n",
       "  </tbody>\n",
       "</table>\n",
       "</div>"
      ],
      "text/plain": [
       "   season  average_rating\n",
       "0       1            80.9\n",
       "1       2            80.0\n",
       "2       3            62.2\n",
       "3       4            60.3"
      ]
     },
     "execution_count": 21,
     "metadata": {},
     "output_type": "execute_result"
    }
   ],
   "source": [
    "q1"
   ]
  },
  {
   "cell_type": "code",
   "execution_count": 22,
   "id": "97a00afb",
   "metadata": {},
   "outputs": [
    {
     "data": {
      "text/plain": [
       "<AxesSubplot:xlabel='season', ylabel='average_rating'>"
      ]
     },
     "execution_count": 22,
     "metadata": {},
     "output_type": "execute_result"
    },
    {
     "data": {
      "image/png": "[encoded data removed]",
      "text/plain": [
       "<Figure size 640x480 with 1 Axes>"
      ]
     },
     "metadata": {},
     "output_type": "display_data"
    }
   ],
   "source": [
    "import seaborn as sns\n",
    "\n",
    "sns.barplot(x='season',y='average_rating',data=q1)"
   ]
  },
  {
   "cell_type": "markdown",
   "id": "6f8bb96c",
   "metadata": {},
   "source": [
    "### Get all the episode names, whose average rating is more than 8 for every season"
   ]
  },
  {
   "cell_type": "code",
   "execution_count": 26,
   "id": "db2fbbae",
   "metadata": {},
   "outputs": [
    {
     "data": {
      "text/html": [
       "<div>\n",
       "<style scoped>\n",
       "    .dataframe tbody tr th:only-of-type {\n",
       "        vertical-align: middle;\n",
       "    }\n",
       "\n",
       "    .dataframe tbody tr th {\n",
       "        vertical-align: top;\n",
       "    }\n",
       "\n",
       "    .dataframe thead th {\n",
       "        text-align: right;\n",
       "    }\n",
       "</style>\n",
       "<table border=\"1\" class=\"dataframe\">\n",
       "  <thead>\n",
       "    <tr style=\"text-align: right;\">\n",
       "      <th></th>\n",
       "      <th>id</th>\n",
       "      <th>url</th>\n",
       "      <th>name</th>\n",
       "      <th>season</th>\n",
       "      <th>number</th>\n",
       "      <th>type</th>\n",
       "      <th>airdate</th>\n",
       "      <th>airtime</th>\n",
       "      <th>runtime</th>\n",
       "      <th>average_rating</th>\n",
       "      <th>summary</th>\n",
       "      <th>medium_image_link</th>\n",
       "      <th>original_image_link</th>\n",
       "    </tr>\n",
       "  </thead>\n",
       "  <tbody>\n",
       "    <tr>\n",
       "      <th>0</th>\n",
       "      <td>869671</td>\n",
       "      <td>https://www.tvmaze.com/episodes/869671/westwor...</td>\n",
       "      <td>The Original</td>\n",
       "      <td>1</td>\n",
       "      <td>1</td>\n",
       "      <td>regular</td>\n",
       "      <td>2016-10-02</td>\n",
       "      <td>09:00 PM</td>\n",
       "      <td>68.0</td>\n",
       "      <td>8.0</td>\n",
       "      <td>A woman named Dolores is a free spirit in the ...</td>\n",
       "      <td>https://static.tvmaze.com/uploads/images/mediu...</td>\n",
       "      <td>https://static.tvmaze.com/uploads/images/origi...</td>\n",
       "    </tr>\n",
       "    <tr>\n",
       "      <th>1</th>\n",
       "      <td>911201</td>\n",
       "      <td>https://www.tvmaze.com/episodes/911201/westwor...</td>\n",
       "      <td>Chestnut</td>\n",
       "      <td>1</td>\n",
       "      <td>2</td>\n",
       "      <td>regular</td>\n",
       "      <td>2016-10-09</td>\n",
       "      <td>09:00 PM</td>\n",
       "      <td>60.0</td>\n",
       "      <td>7.7</td>\n",
       "      <td>Bernard suspects that someone is sabotaging th...</td>\n",
       "      <td>https://static.tvmaze.com/uploads/images/mediu...</td>\n",
       "      <td>https://static.tvmaze.com/uploads/images/origi...</td>\n",
       "    </tr>\n",
       "  </tbody>\n",
       "</table>\n",
       "</div>"
      ],
      "text/plain": [
       "       id                                                url          name  \\\n",
       "0  869671  https://www.tvmaze.com/episodes/869671/westwor...  The Original   \n",
       "1  911201  https://www.tvmaze.com/episodes/911201/westwor...      Chestnut   \n",
       "\n",
       "   season  number     type     airdate   airtime  runtime  average_rating  \\\n",
       "0       1       1  regular  2016-10-02  09:00 PM     68.0             8.0   \n",
       "1       1       2  regular  2016-10-09  09:00 PM     60.0             7.7   \n",
       "\n",
       "                                             summary  \\\n",
       "0  A woman named Dolores is a free spirit in the ...   \n",
       "1  Bernard suspects that someone is sabotaging th...   \n",
       "\n",
       "                                   medium_image_link  \\\n",
       "0  https://static.tvmaze.com/uploads/images/mediu...   \n",
       "1  https://static.tvmaze.com/uploads/images/mediu...   \n",
       "\n",
       "                                 original_image_link  \n",
       "0  https://static.tvmaze.com/uploads/images/origi...  \n",
       "1  https://static.tvmaze.com/uploads/images/origi...  "
      ]
     },
     "execution_count": 26,
     "metadata": {},
     "output_type": "execute_result"
    }
   ],
   "source": [
    "df.head(2)"
   ]
  },
  {
   "cell_type": "code",
   "execution_count": 30,
   "id": "90d06b4d",
   "metadata": {},
   "outputs": [],
   "source": [
    "q2=df[df['average_rating']>8.0]"
   ]
  },
  {
   "cell_type": "markdown",
   "id": "28e92f72",
   "metadata": {},
   "source": [
    "#### For Season1"
   ]
  },
  {
   "cell_type": "code",
   "execution_count": 38,
   "id": "6cd551db",
   "metadata": {},
   "outputs": [],
   "source": [
    "s1 = q2[q2['season']==1]['name'].values"
   ]
  },
  {
   "cell_type": "code",
   "execution_count": 41,
   "id": "36270c45",
   "metadata": {},
   "outputs": [
    {
     "name": "stdout",
     "output_type": "stream",
     "text": [
      "The names of episodes with more than 8 ratings in season 1 are Trompe L'Oeil and The Well-Tempered Clavier and The Bicameral Mind\n"
     ]
    }
   ],
   "source": [
    "print(f'The names of episodes with more than 8 ratings in season 1 are {\" and \".join(s1)}')"
   ]
  },
  {
   "cell_type": "markdown",
   "id": "00a9076e",
   "metadata": {},
   "source": [
    "#### For season2"
   ]
  },
  {
   "cell_type": "code",
   "execution_count": 42,
   "id": "e4705b6a",
   "metadata": {},
   "outputs": [],
   "source": [
    "s2 = q2[q2['season']==2]['name'].values"
   ]
  },
  {
   "cell_type": "code",
   "execution_count": 43,
   "id": "d6f04e01",
   "metadata": {},
   "outputs": [
    {
     "name": "stdout",
     "output_type": "stream",
     "text": [
      "The names of episodes with more than 8 ratings in season 2 are Kiksuya and Vanishing Point and The Passenger\n"
     ]
    }
   ],
   "source": [
    "print(f'The names of episodes with more than 8 ratings in season 2 are {\" and \".join(s2)}')"
   ]
  },
  {
   "cell_type": "markdown",
   "id": "0897c954",
   "metadata": {},
   "source": [
    "### Get all the episode names that aired before May 2019"
   ]
  },
  {
   "cell_type": "code",
   "execution_count": 49,
   "id": "ab04c242",
   "metadata": {},
   "outputs": [
    {
     "data": {
      "text/plain": [
       "'2016-10-09'"
      ]
     },
     "execution_count": 49,
     "metadata": {},
     "output_type": "execute_result"
    }
   ],
   "source": [
    "df['airdate'][1]"
   ]
  },
  {
   "cell_type": "code",
   "execution_count": 61,
   "id": "1250868c",
   "metadata": {},
   "outputs": [
    {
     "data": {
      "text/html": [
       "<div>\n",
       "<style scoped>\n",
       "    .dataframe tbody tr th:only-of-type {\n",
       "        vertical-align: middle;\n",
       "    }\n",
       "\n",
       "    .dataframe tbody tr th {\n",
       "        vertical-align: top;\n",
       "    }\n",
       "\n",
       "    .dataframe thead th {\n",
       "        text-align: right;\n",
       "    }\n",
       "</style>\n",
       "<table border=\"1\" class=\"dataframe\">\n",
       "  <thead>\n",
       "    <tr style=\"text-align: right;\">\n",
       "      <th></th>\n",
       "      <th>id</th>\n",
       "      <th>url</th>\n",
       "      <th>name</th>\n",
       "      <th>season</th>\n",
       "      <th>number</th>\n",
       "      <th>type</th>\n",
       "      <th>airdate</th>\n",
       "      <th>airtime</th>\n",
       "      <th>runtime</th>\n",
       "      <th>average_rating</th>\n",
       "      <th>summary</th>\n",
       "      <th>medium_image_link</th>\n",
       "      <th>original_image_link</th>\n",
       "    </tr>\n",
       "  </thead>\n",
       "  <tbody>\n",
       "    <tr>\n",
       "      <th>10</th>\n",
       "      <td>1214222</td>\n",
       "      <td>https://www.tvmaze.com/episodes/1214222/westwo...</td>\n",
       "      <td>Journey Into Night</td>\n",
       "      <td>2</td>\n",
       "      <td>1</td>\n",
       "      <td>regular</td>\n",
       "      <td>2018-04-22</td>\n",
       "      <td>09:00 PM</td>\n",
       "      <td>74.0</td>\n",
       "      <td>7.8</td>\n",
       "      <td>In the aftermath of the host rebellion, the re...</td>\n",
       "      <td>https://static.tvmaze.com/uploads/images/mediu...</td>\n",
       "      <td>https://static.tvmaze.com/uploads/images/origi...</td>\n",
       "    </tr>\n",
       "    <tr>\n",
       "      <th>11</th>\n",
       "      <td>1440915</td>\n",
       "      <td>https://www.tvmaze.com/episodes/1440915/westwo...</td>\n",
       "      <td>Reunion</td>\n",
       "      <td>2</td>\n",
       "      <td>2</td>\n",
       "      <td>regular</td>\n",
       "      <td>2018-04-29</td>\n",
       "      <td>09:00 PM</td>\n",
       "      <td>60.0</td>\n",
       "      <td>7.7</td>\n",
       "      <td>Dolores looks for allies sympathetic to her ca...</td>\n",
       "      <td>https://static.tvmaze.com/uploads/images/mediu...</td>\n",
       "      <td>https://static.tvmaze.com/uploads/images/origi...</td>\n",
       "    </tr>\n",
       "    <tr>\n",
       "      <th>12</th>\n",
       "      <td>1440916</td>\n",
       "      <td>https://www.tvmaze.com/episodes/1440916/westwo...</td>\n",
       "      <td>Virtù e Fortuna</td>\n",
       "      <td>2</td>\n",
       "      <td>3</td>\n",
       "      <td>regular</td>\n",
       "      <td>2018-05-06</td>\n",
       "      <td>09:00 PM</td>\n",
       "      <td>60.0</td>\n",
       "      <td>7.7</td>\n",
       "      <td>While Delores makes a deal with the Confederad...</td>\n",
       "      <td>https://static.tvmaze.com/uploads/images/mediu...</td>\n",
       "      <td>https://static.tvmaze.com/uploads/images/origi...</td>\n",
       "    </tr>\n",
       "    <tr>\n",
       "      <th>13</th>\n",
       "      <td>1440917</td>\n",
       "      <td>https://www.tvmaze.com/episodes/1440917/westwo...</td>\n",
       "      <td>The Riddle of the Sphinx</td>\n",
       "      <td>2</td>\n",
       "      <td>4</td>\n",
       "      <td>regular</td>\n",
       "      <td>2018-05-13</td>\n",
       "      <td>09:00 PM</td>\n",
       "      <td>71.0</td>\n",
       "      <td>8.0</td>\n",
       "      <td>William pays his recuperating father-in-law se...</td>\n",
       "      <td>https://static.tvmaze.com/uploads/images/mediu...</td>\n",
       "      <td>https://static.tvmaze.com/uploads/images/origi...</td>\n",
       "    </tr>\n",
       "    <tr>\n",
       "      <th>14</th>\n",
       "      <td>1446362</td>\n",
       "      <td>https://www.tvmaze.com/episodes/1446362/westwo...</td>\n",
       "      <td>Akane No Mai</td>\n",
       "      <td>2</td>\n",
       "      <td>5</td>\n",
       "      <td>regular</td>\n",
       "      <td>2018-05-20</td>\n",
       "      <td>09:00 PM</td>\n",
       "      <td>60.0</td>\n",
       "      <td>7.6</td>\n",
       "      <td>While Maeve and her people explore Shogun Worl...</td>\n",
       "      <td>https://static.tvmaze.com/uploads/images/mediu...</td>\n",
       "      <td>https://static.tvmaze.com/uploads/images/origi...</td>\n",
       "    </tr>\n",
       "    <tr>\n",
       "      <th>15</th>\n",
       "      <td>1453278</td>\n",
       "      <td>https://www.tvmaze.com/episodes/1453278/westwo...</td>\n",
       "      <td>Phase Space</td>\n",
       "      <td>2</td>\n",
       "      <td>6</td>\n",
       "      <td>regular</td>\n",
       "      <td>2018-05-27</td>\n",
       "      <td>09:00 PM</td>\n",
       "      <td>60.0</td>\n",
       "      <td>7.7</td>\n",
       "      <td>Maeve finds her daughter, Delores finds the \"r...</td>\n",
       "      <td>https://static.tvmaze.com/uploads/images/mediu...</td>\n",
       "      <td>https://static.tvmaze.com/uploads/images/origi...</td>\n",
       "    </tr>\n",
       "  </tbody>\n",
       "</table>\n",
       "</div>"
      ],
      "text/plain": [
       "         id                                                url  \\\n",
       "10  1214222  https://www.tvmaze.com/episodes/1214222/westwo...   \n",
       "11  1440915  https://www.tvmaze.com/episodes/1440915/westwo...   \n",
       "12  1440916  https://www.tvmaze.com/episodes/1440916/westwo...   \n",
       "13  1440917  https://www.tvmaze.com/episodes/1440917/westwo...   \n",
       "14  1446362  https://www.tvmaze.com/episodes/1446362/westwo...   \n",
       "15  1453278  https://www.tvmaze.com/episodes/1453278/westwo...   \n",
       "\n",
       "                        name  season  number     type     airdate   airtime  \\\n",
       "10        Journey Into Night       2       1  regular  2018-04-22  09:00 PM   \n",
       "11                   Reunion       2       2  regular  2018-04-29  09:00 PM   \n",
       "12           Virtù e Fortuna       2       3  regular  2018-05-06  09:00 PM   \n",
       "13  The Riddle of the Sphinx       2       4  regular  2018-05-13  09:00 PM   \n",
       "14              Akane No Mai       2       5  regular  2018-05-20  09:00 PM   \n",
       "15               Phase Space       2       6  regular  2018-05-27  09:00 PM   \n",
       "\n",
       "    runtime  average_rating  \\\n",
       "10     74.0             7.8   \n",
       "11     60.0             7.7   \n",
       "12     60.0             7.7   \n",
       "13     71.0             8.0   \n",
       "14     60.0             7.6   \n",
       "15     60.0             7.7   \n",
       "\n",
       "                                              summary  \\\n",
       "10  In the aftermath of the host rebellion, the re...   \n",
       "11  Dolores looks for allies sympathetic to her ca...   \n",
       "12  While Delores makes a deal with the Confederad...   \n",
       "13  William pays his recuperating father-in-law se...   \n",
       "14  While Maeve and her people explore Shogun Worl...   \n",
       "15  Maeve finds her daughter, Delores finds the \"r...   \n",
       "\n",
       "                                    medium_image_link  \\\n",
       "10  https://static.tvmaze.com/uploads/images/mediu...   \n",
       "11  https://static.tvmaze.com/uploads/images/mediu...   \n",
       "12  https://static.tvmaze.com/uploads/images/mediu...   \n",
       "13  https://static.tvmaze.com/uploads/images/mediu...   \n",
       "14  https://static.tvmaze.com/uploads/images/mediu...   \n",
       "15  https://static.tvmaze.com/uploads/images/mediu...   \n",
       "\n",
       "                                  original_image_link  \n",
       "10  https://static.tvmaze.com/uploads/images/origi...  \n",
       "11  https://static.tvmaze.com/uploads/images/origi...  \n",
       "12  https://static.tvmaze.com/uploads/images/origi...  \n",
       "13  https://static.tvmaze.com/uploads/images/origi...  \n",
       "14  https://static.tvmaze.com/uploads/images/origi...  \n",
       "15  https://static.tvmaze.com/uploads/images/origi...  "
      ]
     },
     "execution_count": 61,
     "metadata": {},
     "output_type": "execute_result"
    }
   ],
   "source": [
    "df[(df['airdate'].apply(lambda i: int(i[0:4]))<=2019) & (df['airdate'].apply(lambda i: int(i[5:7]))<=5)]"
   ]
  },
  {
   "cell_type": "markdown",
   "id": "79ef0c4c",
   "metadata": {},
   "source": [
    "### Get the episode name from each season with the highest and lowest rating"
   ]
  },
  {
   "cell_type": "code",
   "execution_count": 74,
   "id": "a9190be0",
   "metadata": {},
   "outputs": [
    {
     "data": {
      "text/html": [
       "<div>\n",
       "<style scoped>\n",
       "    .dataframe tbody tr th:only-of-type {\n",
       "        vertical-align: middle;\n",
       "    }\n",
       "\n",
       "    .dataframe tbody tr th {\n",
       "        vertical-align: top;\n",
       "    }\n",
       "\n",
       "    .dataframe thead th {\n",
       "        text-align: right;\n",
       "    }\n",
       "</style>\n",
       "<table border=\"1\" class=\"dataframe\">\n",
       "  <thead>\n",
       "    <tr style=\"text-align: right;\">\n",
       "      <th></th>\n",
       "      <th>season</th>\n",
       "      <th>name</th>\n",
       "    </tr>\n",
       "  </thead>\n",
       "  <tbody>\n",
       "    <tr>\n",
       "      <th>9</th>\n",
       "      <td>1</td>\n",
       "      <td>The Bicameral Mind</td>\n",
       "    </tr>\n",
       "    <tr>\n",
       "      <th>17</th>\n",
       "      <td>2</td>\n",
       "      <td>Kiksuya</td>\n",
       "    </tr>\n",
       "    <tr>\n",
       "      <th>20</th>\n",
       "      <td>3</td>\n",
       "      <td>Parce Domine</td>\n",
       "    </tr>\n",
       "    <tr>\n",
       "      <th>32</th>\n",
       "      <td>4</td>\n",
       "      <td>Zhuangzi</td>\n",
       "    </tr>\n",
       "  </tbody>\n",
       "</table>\n",
       "</div>"
      ],
      "text/plain": [
       "    season                name\n",
       "9        1  The Bicameral Mind\n",
       "17       2             Kiksuya\n",
       "20       3        Parce Domine\n",
       "32       4            Zhuangzi"
      ]
     },
     "execution_count": 74,
     "metadata": {},
     "output_type": "execute_result"
    }
   ],
   "source": [
    "# highest rating episode name as per season\n",
    "df.loc[df.groupby('season')['average_rating'].idxmax(),['season','name']]"
   ]
  },
  {
   "cell_type": "code",
   "execution_count": 75,
   "id": "42d38bca",
   "metadata": {},
   "outputs": [
    {
     "data": {
      "text/html": [
       "<div>\n",
       "<style scoped>\n",
       "    .dataframe tbody tr th:only-of-type {\n",
       "        vertical-align: middle;\n",
       "    }\n",
       "\n",
       "    .dataframe tbody tr th {\n",
       "        vertical-align: top;\n",
       "    }\n",
       "\n",
       "    .dataframe thead th {\n",
       "        text-align: right;\n",
       "    }\n",
       "</style>\n",
       "<table border=\"1\" class=\"dataframe\">\n",
       "  <thead>\n",
       "    <tr style=\"text-align: right;\">\n",
       "      <th></th>\n",
       "      <th>season</th>\n",
       "      <th>name</th>\n",
       "    </tr>\n",
       "  </thead>\n",
       "  <tbody>\n",
       "    <tr>\n",
       "      <th>2</th>\n",
       "      <td>1</td>\n",
       "      <td>The Stray</td>\n",
       "    </tr>\n",
       "    <tr>\n",
       "      <th>14</th>\n",
       "      <td>2</td>\n",
       "      <td>Akane No Mai</td>\n",
       "    </tr>\n",
       "    <tr>\n",
       "      <th>25</th>\n",
       "      <td>3</td>\n",
       "      <td>Decoherence</td>\n",
       "    </tr>\n",
       "    <tr>\n",
       "      <th>28</th>\n",
       "      <td>4</td>\n",
       "      <td>The Auguries</td>\n",
       "    </tr>\n",
       "  </tbody>\n",
       "</table>\n",
       "</div>"
      ],
      "text/plain": [
       "    season          name\n",
       "2        1     The Stray\n",
       "14       2  Akane No Mai\n",
       "25       3   Decoherence\n",
       "28       4  The Auguries"
      ]
     },
     "execution_count": 75,
     "metadata": {},
     "output_type": "execute_result"
    }
   ],
   "source": [
    "# lowest rating episode name as per season\n",
    "df.loc[df.groupby('season')['average_rating'].idxmin(),['season','name']]"
   ]
  },
  {
   "cell_type": "markdown",
   "id": "5c4d5514",
   "metadata": {},
   "source": [
    "### Get the summary for the most popular ( ratings ) episode in every season"
   ]
  },
  {
   "cell_type": "code",
   "execution_count": 76,
   "id": "ff88a075",
   "metadata": {},
   "outputs": [
    {
     "data": {
      "text/html": [
       "<div>\n",
       "<style scoped>\n",
       "    .dataframe tbody tr th:only-of-type {\n",
       "        vertical-align: middle;\n",
       "    }\n",
       "\n",
       "    .dataframe tbody tr th {\n",
       "        vertical-align: top;\n",
       "    }\n",
       "\n",
       "    .dataframe thead th {\n",
       "        text-align: right;\n",
       "    }\n",
       "</style>\n",
       "<table border=\"1\" class=\"dataframe\">\n",
       "  <thead>\n",
       "    <tr style=\"text-align: right;\">\n",
       "      <th></th>\n",
       "      <th>season</th>\n",
       "      <th>summary</th>\n",
       "    </tr>\n",
       "  </thead>\n",
       "  <tbody>\n",
       "    <tr>\n",
       "      <th>9</th>\n",
       "      <td>1</td>\n",
       "      <td>Delores finds out the truth about William's fa...</td>\n",
       "    </tr>\n",
       "    <tr>\n",
       "      <th>17</th>\n",
       "      <td>2</td>\n",
       "      <td>Another of Westworld's Host revolutionaries is...</td>\n",
       "    </tr>\n",
       "    <tr>\n",
       "      <th>20</th>\n",
       "      <td>3</td>\n",
       "      <td>If you're stuck in a loop, try walking in a st...</td>\n",
       "    </tr>\n",
       "    <tr>\n",
       "      <th>32</th>\n",
       "      <td>4</td>\n",
       "      <td>God is bored.</td>\n",
       "    </tr>\n",
       "  </tbody>\n",
       "</table>\n",
       "</div>"
      ],
      "text/plain": [
       "    season                                            summary\n",
       "9        1  Delores finds out the truth about William's fa...\n",
       "17       2  Another of Westworld's Host revolutionaries is...\n",
       "20       3  If you're stuck in a loop, try walking in a st...\n",
       "32       4                                      God is bored."
      ]
     },
     "execution_count": 76,
     "metadata": {},
     "output_type": "execute_result"
    }
   ],
   "source": [
    "df.loc[df.groupby('season')['average_rating'].idxmax(),['season','summary']]"
   ]
  }
 ],
 "metadata": {
  "kernelspec": {
   "display_name": "Python 3 (ipykernel)",
   "language": "python",
   "name": "python3"
  },
  "language_info": {
   "codemirror_mode": {
    "name": "ipython",
    "version": 3
   },
   "file_extension": ".py",
   "mimetype": "text/x-python",
   "name": "python",
   "nbconvert_exporter": "python",
   "pygments_lexer": "ipython3",
   "version": "3.9.13"
  }
 },
 "nbformat": 4,
 "nbformat_minor": 5
}
